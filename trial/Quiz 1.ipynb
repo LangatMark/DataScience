{
 "cells": [
  {
   "cell_type": "markdown",
   "id": "e50a7513",
   "metadata": {},
   "source": [
    "# Qn 2\n",
    "marks=float(input(\" Enter your marks: \"))\n",
    "if marks<25:\n",
    "    print (\"F\")\n",
    "elif marks>=25 and marks<45:\n",
    "    print (\"E\")\n",
    "elif marks>=45 and marks<50:\n",
    "    print (\"D\")\n",
    "elif marks>=50 and marks<60:\n",
    "    print (\"C\")\n",
    "elif marks>=60 and marks<80:\n",
    "    print (\"B\")\n",
    "else:\n",
    "    print (\"A\")\n"
   ]
  },
  {
   "cell_type": "markdown",
   "id": "5e993cc9",
   "metadata": {},
   "source": [
    "# Qn 1\n",
    "quantity=float(input(' Input order quantity: '))\n",
    "totalcost=quantity*300\n",
    "if totalcost>1000:\n",
    "    print(totalcost*0.85)\n",
    "else:\n",
    "    print(totalcost)"
   ]
  },
  {
   "cell_type": "markdown",
   "id": "086b0f9f",
   "metadata": {},
   "source": [
    "# Qn 3\n",
    "x=float(input(' input number: '))\n",
    "\n",
    "if x%3==0:\n",
    "    print(' Number is divisible by 3')\n",
    "else:\n",
    "    print(' Number is not divisble by 3')\n"
   ]
  }
 ],
 "metadata": {
  "kernelspec": {
   "display_name": "Python 3 (ipykernel)",
   "language": "python",
   "name": "python3"
  },
  "language_info": {
   "codemirror_mode": {
    "name": "ipython",
    "version": 3
   },
   "file_extension": ".py",
   "mimetype": "text/x-python",
   "name": "python",
   "nbconvert_exporter": "python",
   "pygments_lexer": "ipython3",
   "version": "3.9.13"
  }
 },
 "nbformat": 4,
 "nbformat_minor": 5
}
