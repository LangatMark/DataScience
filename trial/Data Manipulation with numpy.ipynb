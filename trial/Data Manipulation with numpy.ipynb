{
 "cells": [
  {
   "cell_type": "code",
   "execution_count": 66,
   "id": "1d71f8b4",
   "metadata": {},
   "outputs": [
    {
     "name": "stdout",
     "output_type": "stream",
     "text": [
      "Requirement already satisfied: numpy in c:\\programdata\\anaconda3\\lib\\site-packages (1.21.5)\n"
     ]
    }
   ],
   "source": [
    "! pip install numpy"
   ]
  },
  {
   "cell_type": "code",
   "execution_count": 67,
   "id": "095084c5",
   "metadata": {},
   "outputs": [],
   "source": [
    "#importing numpy"
   ]
  },
  {
   "cell_type": "code",
   "execution_count": 68,
   "id": "31310a39",
   "metadata": {},
   "outputs": [],
   "source": [
    "import numpy"
   ]
  },
  {
   "cell_type": "code",
   "execution_count": 69,
   "id": "4ee11c43",
   "metadata": {},
   "outputs": [],
   "source": [
    "import numpy as np\n"
   ]
  },
  {
   "cell_type": "code",
   "execution_count": 70,
   "id": "e6080756",
   "metadata": {},
   "outputs": [
    {
     "data": {
      "text/plain": [
       "array([], dtype=float64)"
      ]
     },
     "execution_count": 70,
     "metadata": {},
     "output_type": "execute_result"
    }
   ],
   "source": [
    "# syntax-how do you create arrays in numpy\n",
    "np.array([])\n",
    "#1D Arrays-vector\n"
   ]
  },
  {
   "cell_type": "code",
   "execution_count": 71,
   "id": "b100fa28",
   "metadata": {},
   "outputs": [],
   "source": [
    "x=[1,2,3,4,5,6]"
   ]
  },
  {
   "cell_type": "code",
   "execution_count": 72,
   "id": "c4553859",
   "metadata": {},
   "outputs": [
    {
     "data": {
      "text/plain": [
       "array([], dtype=float64)"
      ]
     },
     "execution_count": 72,
     "metadata": {},
     "output_type": "execute_result"
    }
   ],
   "source": [
    "np.array([])"
   ]
  },
  {
   "cell_type": "code",
   "execution_count": 73,
   "id": "9d275567",
   "metadata": {},
   "outputs": [],
   "source": [
    "test1=np.array([4,5,6])"
   ]
  },
  {
   "cell_type": "code",
   "execution_count": 74,
   "id": "97de5089",
   "metadata": {},
   "outputs": [
    {
     "data": {
      "text/plain": [
       "numpy.ndarray"
      ]
     },
     "execution_count": 74,
     "metadata": {},
     "output_type": "execute_result"
    }
   ],
   "source": [
    "type(test1)"
   ]
  },
  {
   "cell_type": "code",
   "execution_count": 75,
   "id": "c894097f",
   "metadata": {},
   "outputs": [],
   "source": [
    "array1=np.array([1,2,3,4,5])"
   ]
  },
  {
   "cell_type": "code",
   "execution_count": 76,
   "id": "d55db0f8",
   "metadata": {},
   "outputs": [
    {
     "data": {
      "text/plain": [
       "array([1, 2, 3, 4, 5])"
      ]
     },
     "execution_count": 76,
     "metadata": {},
     "output_type": "execute_result"
    }
   ],
   "source": [
    "array1"
   ]
  },
  {
   "cell_type": "code",
   "execution_count": 77,
   "id": "9c72ed43",
   "metadata": {},
   "outputs": [],
   "source": [
    "#create a 1D array and check the type\n",
    "array2=np.array([1,2,3,4,5,6,7])"
   ]
  },
  {
   "cell_type": "code",
   "execution_count": 78,
   "id": "61e923a1",
   "metadata": {},
   "outputs": [
    {
     "data": {
      "text/plain": [
       "numpy.ndarray"
      ]
     },
     "execution_count": 78,
     "metadata": {},
     "output_type": "execute_result"
    }
   ],
   "source": [
    "type(array2)"
   ]
  },
  {
   "cell_type": "code",
   "execution_count": 79,
   "id": "1e839dac",
   "metadata": {},
   "outputs": [
    {
     "data": {
      "text/plain": [
       "1"
      ]
     },
     "execution_count": 79,
     "metadata": {},
     "output_type": "execute_result"
    }
   ],
   "source": [
    "array2.ndim"
   ]
  },
  {
   "cell_type": "code",
   "execution_count": 80,
   "id": "66913c42",
   "metadata": {},
   "outputs": [
    {
     "data": {
      "text/plain": [
       "(7,)"
      ]
     },
     "execution_count": 80,
     "metadata": {},
     "output_type": "execute_result"
    }
   ],
   "source": [
    "#shape(rows and columns)\n",
    "array2.shape"
   ]
  },
  {
   "cell_type": "code",
   "execution_count": 81,
   "id": "39177c75",
   "metadata": {},
   "outputs": [
    {
     "data": {
      "text/plain": [
       "7"
      ]
     },
     "execution_count": 81,
     "metadata": {},
     "output_type": "execute_result"
    }
   ],
   "source": [
    "#getting the size(no of elements)\n",
    "array2.size"
   ]
  },
  {
   "cell_type": "markdown",
   "id": "7d7c1573",
   "metadata": {},
   "source": [
    "# 2D Arrays-Matrix\n",
    "rows and columns"
   ]
  },
  {
   "cell_type": "code",
   "execution_count": 82,
   "id": "42d0e9e4",
   "metadata": {},
   "outputs": [
    {
     "data": {
      "text/plain": [
       "array([[ 0,  1,  2,  3],\n",
       "       [10, 11, 12, 13],\n",
       "       [14, 15, 16, 17]])"
      ]
     },
     "execution_count": 82,
     "metadata": {},
     "output_type": "execute_result"
    }
   ],
   "source": [
    "np.array([[0,1,2,3],[10,11,12,13],[14,15,16,17]])"
   ]
  },
  {
   "cell_type": "code",
   "execution_count": 83,
   "id": "01a02b6e",
   "metadata": {},
   "outputs": [],
   "source": [
    "array2d=np.array([[ 0,  1,  2,  3],\n",
    "       [10, 11, 12, 13],\n",
    "       [14, 15, 16, 17]])"
   ]
  },
  {
   "cell_type": "markdown",
   "id": "01590fb9",
   "metadata": {},
   "source": [
    "# Accessing 1D arrays\n",
    "import numpy as np"
   ]
  },
  {
   "cell_type": "code",
   "execution_count": 84,
   "id": "e2717e05",
   "metadata": {},
   "outputs": [],
   "source": [
    "array1=np.array([1,2,3,4,5,6,7,8])"
   ]
  },
  {
   "cell_type": "code",
   "execution_count": 85,
   "id": "292f1fb9",
   "metadata": {},
   "outputs": [
    {
     "data": {
      "text/plain": [
       "numpy.ndarray"
      ]
     },
     "execution_count": 85,
     "metadata": {},
     "output_type": "execute_result"
    }
   ],
   "source": [
    "#retrieve element\n",
    "type(array1)"
   ]
  },
  {
   "cell_type": "code",
   "execution_count": 86,
   "id": "977640e6",
   "metadata": {},
   "outputs": [
    {
     "data": {
      "text/plain": [
       "1"
      ]
     },
     "execution_count": 86,
     "metadata": {},
     "output_type": "execute_result"
    }
   ],
   "source": [
    "array1[0]"
   ]
  },
  {
   "cell_type": "code",
   "execution_count": 87,
   "id": "ddec1939",
   "metadata": {},
   "outputs": [
    {
     "data": {
      "text/plain": [
       "8"
      ]
     },
     "execution_count": 87,
     "metadata": {},
     "output_type": "execute_result"
    }
   ],
   "source": [
    "array1[-1]"
   ]
  },
  {
   "cell_type": "markdown",
   "id": "67de89be",
   "metadata": {},
   "source": [
    "# Accessing 2D"
   ]
  },
  {
   "cell_type": "code",
   "execution_count": 88,
   "id": "8de7c23a",
   "metadata": {},
   "outputs": [
    {
     "data": {
      "text/plain": [
       "array([[ 2,  4,  6,  8],\n",
       "       [10, 12, 14, 15]])"
      ]
     },
     "execution_count": 88,
     "metadata": {},
     "output_type": "execute_result"
    }
   ],
   "source": [
    "array2d=np.array([[2,4,6,8],[10,12,14,15]])\n",
    "array2d"
   ]
  },
  {
   "cell_type": "code",
   "execution_count": 89,
   "id": "4113be7c",
   "metadata": {},
   "outputs": [
    {
     "data": {
      "text/plain": [
       "2"
      ]
     },
     "execution_count": 89,
     "metadata": {},
     "output_type": "execute_result"
    }
   ],
   "source": [
    "#dimension\n",
    "array2d.ndim"
   ]
  },
  {
   "cell_type": "code",
   "execution_count": 90,
   "id": "edbff320",
   "metadata": {},
   "outputs": [
    {
     "data": {
      "text/plain": [
       "(2, 4)"
      ]
     },
     "execution_count": 90,
     "metadata": {},
     "output_type": "execute_result"
    }
   ],
   "source": [
    "#shape\n",
    "array2d.shape"
   ]
  },
  {
   "cell_type": "code",
   "execution_count": 91,
   "id": "8012395f",
   "metadata": {},
   "outputs": [
    {
     "data": {
      "text/plain": [
       "8"
      ]
     },
     "execution_count": 91,
     "metadata": {},
     "output_type": "execute_result"
    }
   ],
   "source": [
    "array2d.size"
   ]
  },
  {
   "cell_type": "code",
   "execution_count": 92,
   "id": "96524ba4",
   "metadata": {},
   "outputs": [
    {
     "data": {
      "text/plain": [
       "12"
      ]
     },
     "execution_count": 92,
     "metadata": {},
     "output_type": "execute_result"
    }
   ],
   "source": [
    "#roes,columns access element 6\n",
    "array2d[1,1]"
   ]
  },
  {
   "cell_type": "code",
   "execution_count": 93,
   "id": "3a3aca24",
   "metadata": {},
   "outputs": [
    {
     "data": {
      "text/plain": [
       "8"
      ]
     },
     "execution_count": 93,
     "metadata": {},
     "output_type": "execute_result"
    }
   ],
   "source": [
    "array2d[0,3]"
   ]
  },
  {
   "cell_type": "markdown",
   "id": "89e7ac23",
   "metadata": {},
   "source": [
    "# 1D Slicing"
   ]
  },
  {
   "cell_type": "code",
   "execution_count": 94,
   "id": "9032aaa9",
   "metadata": {},
   "outputs": [],
   "source": [
    "oned=np.array([11,21,35,47,59,69,71,18,19,10])"
   ]
  },
  {
   "cell_type": "code",
   "execution_count": 95,
   "id": "1e34f0fc",
   "metadata": {},
   "outputs": [
    {
     "data": {
      "text/plain": [
       "array([11, 21, 35, 47, 59, 69, 71, 18, 19, 10])"
      ]
     },
     "execution_count": 95,
     "metadata": {},
     "output_type": "execute_result"
    }
   ],
   "source": [
    "oned"
   ]
  },
  {
   "cell_type": "code",
   "execution_count": 96,
   "id": "57679ac1",
   "metadata": {},
   "outputs": [
    {
     "data": {
      "text/plain": [
       "array([11, 21, 35, 47, 59, 69, 71, 18, 19, 10])"
      ]
     },
     "execution_count": 96,
     "metadata": {},
     "output_type": "execute_result"
    }
   ],
   "source": [
    "#select entire array using slicing\n",
    "oned[0:10]"
   ]
  },
  {
   "cell_type": "code",
   "execution_count": 97,
   "id": "2f124209",
   "metadata": {},
   "outputs": [
    {
     "data": {
      "text/plain": [
       "array([47, 59, 69])"
      ]
     },
     "execution_count": 97,
     "metadata": {},
     "output_type": "execute_result"
    }
   ],
   "source": [
    "oned[3:6]"
   ]
  },
  {
   "cell_type": "code",
   "execution_count": 98,
   "id": "a727fc7b",
   "metadata": {},
   "outputs": [
    {
     "data": {
      "text/plain": [
       "array([18, 19, 10])"
      ]
     },
     "execution_count": 98,
     "metadata": {},
     "output_type": "execute_result"
    }
   ],
   "source": [
    "oned[-3:]"
   ]
  },
  {
   "cell_type": "code",
   "execution_count": 99,
   "id": "cfc0c659",
   "metadata": {},
   "outputs": [
    {
     "data": {
      "text/plain": [
       "array([11, 21, 35, 47, 59])"
      ]
     },
     "execution_count": 99,
     "metadata": {},
     "output_type": "execute_result"
    }
   ],
   "source": [
    "oned[:5]"
   ]
  },
  {
   "cell_type": "markdown",
   "id": "b8558d7d",
   "metadata": {},
   "source": [
    "# 2D Slicing\n",
    "array2d=np.array([[2,4,6,8],[10,12,14,15]])"
   ]
  },
  {
   "cell_type": "code",
   "execution_count": 100,
   "id": "ef9e04f6",
   "metadata": {},
   "outputs": [
    {
     "data": {
      "text/plain": [
       "array([[ 1,  2,  3,  4,  5],\n",
       "       [ 6,  7,  8,  9, 10]])"
      ]
     },
     "execution_count": 100,
     "metadata": {},
     "output_type": "execute_result"
    }
   ],
   "source": [
    "array2d=np.array([[1,2,3,4,5],[6,7,8,9,10]])\n",
    "array2d"
   ]
  },
  {
   "cell_type": "code",
   "execution_count": 101,
   "id": "7fc5d117",
   "metadata": {},
   "outputs": [
    {
     "data": {
      "text/plain": [
       "array([6, 7, 8])"
      ]
     },
     "execution_count": 101,
     "metadata": {},
     "output_type": "execute_result"
    }
   ],
   "source": [
    "array2d[1,0:3]"
   ]
  },
  {
   "cell_type": "code",
   "execution_count": 102,
   "id": "a570a3cd",
   "metadata": {},
   "outputs": [
    {
     "data": {
      "text/plain": [
       "array([2, 7])"
      ]
     },
     "execution_count": 102,
     "metadata": {},
     "output_type": "execute_result"
    }
   ],
   "source": [
    "#retrieve elements 2 and 7\n",
    "#retrieve elements in the first row\n",
    "array2d[0:2,1]\n"
   ]
  },
  {
   "cell_type": "code",
   "execution_count": 103,
   "id": "ac7c24aa",
   "metadata": {},
   "outputs": [
    {
     "data": {
      "text/plain": [
       "array([ 6,  7,  8,  9, 10])"
      ]
     },
     "execution_count": 103,
     "metadata": {},
     "output_type": "execute_result"
    }
   ],
   "source": [
    "array2d[1,:6]"
   ]
  },
  {
   "cell_type": "markdown",
   "id": "c50df0bf",
   "metadata": {},
   "source": [
    "# Random number generation\n",
    "x=np.random.randint(1,100)"
   ]
  },
  {
   "cell_type": "code",
   "execution_count": 104,
   "id": "62bfee3e",
   "metadata": {},
   "outputs": [],
   "source": [
    "import numpy as np"
   ]
  },
  {
   "cell_type": "code",
   "execution_count": 105,
   "id": "3155f010",
   "metadata": {},
   "outputs": [
    {
     "data": {
      "text/plain": [
       "33"
      ]
     },
     "execution_count": 105,
     "metadata": {},
     "output_type": "execute_result"
    }
   ],
   "source": [
    "#generate random numbers between 1 and 40\n",
    "np.random.randint(1,40)"
   ]
  },
  {
   "cell_type": "code",
   "execution_count": 106,
   "id": "78f860ac",
   "metadata": {},
   "outputs": [
    {
     "data": {
      "text/plain": [
       "23"
      ]
     },
     "execution_count": 106,
     "metadata": {},
     "output_type": "execute_result"
    }
   ],
   "source": [
    "#generate random numbers between 20 and 42\n",
    "np.random.randint(20,42)\n"
   ]
  },
  {
   "cell_type": "code",
   "execution_count": 107,
   "id": "84f913f6",
   "metadata": {},
   "outputs": [
    {
     "data": {
      "text/plain": [
       "array([619585, 838357, 743564, 578436, 712511, 721798, 491803, 899095,\n",
       "       435900, 224795, 790940, 175758, 181488, 689096, 397715, 739999,\n",
       "       643995, 821372,  55586, 473788, 872270, 878506, 135832, 808221,\n",
       "       905380, 285097, 344508, 516588, 940116, 105214, 663426, 436406,\n",
       "       256722, 415195, 751921, 123632, 532746, 716283, 843754, 861489,\n",
       "       708566, 259411, 951626, 483952, 884178, 278917, 315237, 866874,\n",
       "        89916, 673214,  44465, 233492, 273493, 750394, 408120, 298765,\n",
       "       596930, 745284, 385677, 833236, 946500, 982673, 213007, 396221,\n",
       "       704974, 129625, 356882, 369461, 500557, 727324, 913165, 469508,\n",
       "       721019, 321074, 504167, 518687, 248679, 416074, 917208, 969882,\n",
       "       850784, 287162, 126591, 660864, 783150, 852722, 445403, 717362,\n",
       "       686912, 552200, 209306, 495880, 391702, 574870, 120105, 257203,\n",
       "       926372,  62834, 694043, 789496, 845826, 253964, 278985, 429374,\n",
       "       766882, 336338, 877768, 951486,  89642, 581275, 976134, 753419,\n",
       "       495116, 373969, 522724, 316313, 823202, 550701, 742864, 878206,\n",
       "       662886, 538910, 274457, 621722, 192712, 372944, 892476, 185253,\n",
       "       937227, 873549, 594089, 457476, 374060, 522064, 289456, 840054,\n",
       "       676344, 851413, 127992, 446442, 348071, 588312, 737172, 474772,\n",
       "       271371, 432160, 349048, 151859, 794910, 645477, 610391, 596124,\n",
       "        79345, 700454, 955228, 246699, 572474, 135203,  36297, 184205,\n",
       "       849648, 799205, 678447, 418569, 783959, 356000, 828915, 801568,\n",
       "       603170, 440956, 542442, 972495, 131139, 970508, 319717, 488543,\n",
       "       576440, 721025, 433120, 574956, 340668, 673379, 739016, 313734,\n",
       "       805578, 799379, 711608, 706333, 553152, 964421, 845224,  20105,\n",
       "       333243, 375782, 637096, 727703, 591380,  54876, 411816, 705323,\n",
       "       692710, 827376, 821939, 927844, 520885, 558749, 297954, 321266,\n",
       "       722254, 996570, 787267, 204797, 668053, 238419, 485254, 562393,\n",
       "       578590, 804583, 166601, 293089, 564892, 790191, 405997, 633888,\n",
       "        51621, 946672,   4947, 322689, 286743, 328252, 384983, 514994,\n",
       "       138121, 797437, 787948, 344675, 534674, 531834, 500569, 627906,\n",
       "       693737, 553553, 684211, 722882, 604283, 788461, 421863, 996302,\n",
       "       557088, 936235,  94715, 380181, 181348, 248373, 239781, 168258,\n",
       "        70901, 909447, 115684, 147851, 631673, 573674, 782539, 182390,\n",
       "       596732, 138005, 609928, 517409, 795746, 502631, 492210, 666034,\n",
       "       619033, 899925, 673838, 799991, 397406, 788619, 194689, 727889,\n",
       "       928827, 607647, 217412, 380847,  58649,  95153, 745748, 698966,\n",
       "       360999, 574875, 470666, 400053, 834476, 571431, 171764,  46500,\n",
       "       584983, 203182, 717381, 359249, 761165, 423923, 900289, 344085,\n",
       "       539220, 100370,  34168, 131542, 868576, 703085, 458425, 909328,\n",
       "       896678, 209886, 300842, 812757, 532660, 113315, 945443, 845088,\n",
       "       127532, 288525, 683444, 108224,   9255, 881594, 947457, 148984,\n",
       "       918686, 900149, 950732, 263240, 574083, 281044, 976794, 143223,\n",
       "       604588, 102462, 228867,  76300, 787668,  20775, 634423, 453436,\n",
       "       704418, 268004, 518244, 804782,   9078, 178413, 680680, 681991,\n",
       "       112462, 433029, 420172,  62886, 716559, 167903, 981545, 348415,\n",
       "       521556, 761669, 318209, 573354, 924182, 326493, 607041, 278506,\n",
       "       160203, 348039, 603669, 731667,  20056, 338164, 155803,  32591,\n",
       "       909745, 753968, 516350,  61905, 389629, 190535, 526415, 476946,\n",
       "       941884, 956573, 630564, 805960, 932044, 382915, 524533, 350568,\n",
       "       181763, 812805, 601606, 494113, 352312, 450501, 996382, 606086,\n",
       "       397024,  60946, 405134, 818383, 477544, 115592,  11425, 693787,\n",
       "        53159,  48972, 775783, 122115,   9520, 651884, 487585, 287612,\n",
       "       150835, 252310, 795360, 919743, 403021, 231208, 493876, 827962,\n",
       "       828156, 294168, 282962, 140589, 526209, 300421, 601638, 418204,\n",
       "       525310, 873377, 482880, 522663, 189228, 281222, 114562, 287452,\n",
       "       182858, 147937, 263453, 864490, 506197, 797326, 769556, 414571,\n",
       "       715721,  88905, 941813, 232861, 846680, 805512,  34909, 662009,\n",
       "       741324, 824871, 118173, 145409, 883225, 870018, 736531, 842388,\n",
       "        22755, 878823, 284858, 660185, 627969, 282284,  11996, 696208,\n",
       "       244830, 857983, 969239,  49942, 312912, 998146, 344010, 923441,\n",
       "       731834,  76890, 933613, 803024,  37578, 452430, 542801,   7506,\n",
       "       322528, 539341, 978703, 285618, 784445, 326830, 863455, 385289,\n",
       "       845699, 632762, 609033, 765301])"
      ]
     },
     "execution_count": 107,
     "metadata": {},
     "output_type": "execute_result"
    }
   ],
   "source": [
    "#generate 500 numbers between 1 and 1000000\n",
    "np.random.randint(1,1000000,size=500)"
   ]
  },
  {
   "cell_type": "markdown",
   "id": "98c395d1",
   "metadata": {},
   "source": [
    "# Arange"
   ]
  },
  {
   "cell_type": "code",
   "execution_count": 108,
   "id": "505fec7b",
   "metadata": {},
   "outputs": [
    {
     "data": {
      "text/plain": [
       "array([ 0,  1,  2,  3,  4,  5,  6,  7,  8,  9, 10])"
      ]
     },
     "execution_count": 108,
     "metadata": {},
     "output_type": "execute_result"
    }
   ],
   "source": [
    "np.arange(11)"
   ]
  },
  {
   "cell_type": "code",
   "execution_count": 109,
   "id": "49a2b320",
   "metadata": {},
   "outputs": [
    {
     "data": {
      "text/plain": [
       "array([   0,    1,    2, ...,  998,  999, 1000])"
      ]
     },
     "execution_count": 109,
     "metadata": {},
     "output_type": "execute_result"
    }
   ],
   "source": [
    "np.arange(1001)"
   ]
  },
  {
   "cell_type": "code",
   "execution_count": 110,
   "id": "879d2b58",
   "metadata": {},
   "outputs": [
    {
     "data": {
      "text/plain": [
       "array([ 1,  2,  3,  4,  5,  6,  7,  8,  9, 10])"
      ]
     },
     "execution_count": 110,
     "metadata": {},
     "output_type": "execute_result"
    }
   ],
   "source": [
    "np.arange(1,11)"
   ]
  },
  {
   "cell_type": "markdown",
   "id": "18e93493",
   "metadata": {},
   "source": [
    "# Reshaping"
   ]
  },
  {
   "cell_type": "code",
   "execution_count": 111,
   "id": "ad1386ea",
   "metadata": {},
   "outputs": [
    {
     "name": "stdout",
     "output_type": "stream",
     "text": [
      "[[ 1  2  3  4  5]\n",
      " [ 6  7  8  9 10]]\n"
     ]
    }
   ],
   "source": [
    "#create a one dimensional array\n",
    "arr=np.array([1,2,3,4,5,6,7,8,9,10])\n",
    "\n",
    "#Reshape the array into a two-dimensional array with 2 rows and 5 columns\n",
    "reshaped_arr=arr.reshape((2,5))\n",
    "\n",
    "print(reshaped_arr)"
   ]
  },
  {
   "cell_type": "code",
   "execution_count": 112,
   "id": "7cb268a3",
   "metadata": {},
   "outputs": [
    {
     "data": {
      "text/plain": [
       "array([[1, 2, 3],\n",
       "       [4, 5, 6]])"
      ]
     },
     "execution_count": 112,
     "metadata": {},
     "output_type": "execute_result"
    }
   ],
   "source": [
    "x=np.array([[1,2,3],[4,5,6]])\n",
    "x"
   ]
  },
  {
   "cell_type": "code",
   "execution_count": 113,
   "id": "b56a6901",
   "metadata": {},
   "outputs": [
    {
     "data": {
      "text/plain": [
       "(2, 3)"
      ]
     },
     "execution_count": 113,
     "metadata": {},
     "output_type": "execute_result"
    }
   ],
   "source": [
    "x.shape\n"
   ]
  },
  {
   "cell_type": "code",
   "execution_count": 114,
   "id": "2d586926",
   "metadata": {},
   "outputs": [
    {
     "data": {
      "text/plain": [
       "6"
      ]
     },
     "execution_count": 114,
     "metadata": {},
     "output_type": "execute_result"
    }
   ],
   "source": [
    "x.size"
   ]
  },
  {
   "cell_type": "code",
   "execution_count": 115,
   "id": "91db207a",
   "metadata": {},
   "outputs": [
    {
     "data": {
      "text/plain": [
       "array([[1, 2, 3],\n",
       "       [4, 5, 6]])"
      ]
     },
     "execution_count": 115,
     "metadata": {},
     "output_type": "execute_result"
    }
   ],
   "source": [
    "x.reshape(2,3)"
   ]
  },
  {
   "cell_type": "code",
   "execution_count": 116,
   "id": "6b91c060",
   "metadata": {},
   "outputs": [
    {
     "data": {
      "text/plain": [
       "(6,)"
      ]
     },
     "execution_count": 116,
     "metadata": {},
     "output_type": "execute_result"
    }
   ],
   "source": [
    "even=np.array([2,4,6,8,10,12])\n",
    "even.size\n",
    "even.shape"
   ]
  },
  {
   "cell_type": "code",
   "execution_count": 117,
   "id": "7db1f637",
   "metadata": {},
   "outputs": [
    {
     "data": {
      "text/plain": [
       "array([[ 2,  4,  6],\n",
       "       [ 8, 10, 12]])"
      ]
     },
     "execution_count": 117,
     "metadata": {},
     "output_type": "execute_result"
    }
   ],
   "source": [
    "even.reshape(2,3)"
   ]
  },
  {
   "cell_type": "code",
   "execution_count": 118,
   "id": "ae406c62",
   "metadata": {},
   "outputs": [
    {
     "data": {
      "text/plain": [
       "(6,)"
      ]
     },
     "execution_count": 118,
     "metadata": {},
     "output_type": "execute_result"
    }
   ],
   "source": [
    "even.shape"
   ]
  },
  {
   "cell_type": "markdown",
   "id": "4b2bcf7b",
   "metadata": {},
   "source": [
    "# search array"
   ]
  },
  {
   "cell_type": "code",
   "execution_count": 119,
   "id": "dd78b383",
   "metadata": {},
   "outputs": [],
   "source": [
    "dataset=np.arange(20,31)"
   ]
  },
  {
   "cell_type": "code",
   "execution_count": 120,
   "id": "4d018baa",
   "metadata": {},
   "outputs": [
    {
     "data": {
      "text/plain": [
       "array([20, 21, 22, 23, 24, 25, 26, 27, 28, 29, 30])"
      ]
     },
     "execution_count": 120,
     "metadata": {},
     "output_type": "execute_result"
    }
   ],
   "source": [
    "dataset"
   ]
  },
  {
   "cell_type": "code",
   "execution_count": 121,
   "id": "e3675593",
   "metadata": {},
   "outputs": [
    {
     "data": {
      "text/plain": [
       "(array([4], dtype=int64),)"
      ]
     },
     "execution_count": 121,
     "metadata": {},
     "output_type": "execute_result"
    }
   ],
   "source": [
    "np.where(dataset==24)#output index"
   ]
  },
  {
   "cell_type": "code",
   "execution_count": 122,
   "id": "f22a2db1",
   "metadata": {},
   "outputs": [
    {
     "data": {
      "text/plain": [
       "array([24, 25, 26, 27, 28, 29, 30])"
      ]
     },
     "execution_count": 122,
     "metadata": {},
     "output_type": "execute_result"
    }
   ],
   "source": [
    "dataset[np.where(dataset>23)]"
   ]
  },
  {
   "cell_type": "markdown",
   "id": "1dc39f24",
   "metadata": {},
   "source": [
    "# other examples\n"
   ]
  },
  {
   "cell_type": "code",
   "execution_count": 123,
   "id": "741aa4f2",
   "metadata": {},
   "outputs": [
    {
     "data": {
      "text/plain": [
       "array([10, 20, 30,  4,  5])"
      ]
     },
     "execution_count": 123,
     "metadata": {},
     "output_type": "execute_result"
    }
   ],
   "source": [
    "arr1=np.array([1,2,3,4,5])\n",
    "arr2=np.array([10,20,30,40,50])\n",
    "merged=np.where(arr1>3,arr1,arr2)\n",
    "merged"
   ]
  },
  {
   "cell_type": "markdown",
   "id": "d2eb26d3",
   "metadata": {},
   "source": [
    "# computation with arrays"
   ]
  },
  {
   "cell_type": "code",
   "execution_count": 124,
   "id": "ac1b1c8f",
   "metadata": {},
   "outputs": [
    {
     "data": {
      "text/plain": [
       "array([[1, 2, 3],\n",
       "       [4, 5, 6]])"
      ]
     },
     "execution_count": 124,
     "metadata": {},
     "output_type": "execute_result"
    }
   ],
   "source": [
    "a=np.array([[1,2,3],[4,5,6]])\n",
    "a"
   ]
  },
  {
   "cell_type": "code",
   "execution_count": 125,
   "id": "c7fb0c3c",
   "metadata": {},
   "outputs": [
    {
     "data": {
      "text/plain": [
       "3.5"
      ]
     },
     "execution_count": 125,
     "metadata": {},
     "output_type": "execute_result"
    }
   ],
   "source": [
    "a.mean()"
   ]
  },
  {
   "cell_type": "code",
   "execution_count": 126,
   "id": "77973ca4",
   "metadata": {},
   "outputs": [
    {
     "data": {
      "text/plain": [
       "1"
      ]
     },
     "execution_count": 126,
     "metadata": {},
     "output_type": "execute_result"
    }
   ],
   "source": [
    "a.min()"
   ]
  },
  {
   "cell_type": "code",
   "execution_count": 127,
   "id": "53ea5aa4",
   "metadata": {},
   "outputs": [
    {
     "data": {
      "text/plain": [
       "6"
      ]
     },
     "execution_count": 127,
     "metadata": {},
     "output_type": "execute_result"
    }
   ],
   "source": [
    "a.max()"
   ]
  },
  {
   "cell_type": "code",
   "execution_count": 128,
   "id": "32353718",
   "metadata": {},
   "outputs": [
    {
     "data": {
      "text/plain": [
       "21"
      ]
     },
     "execution_count": 128,
     "metadata": {},
     "output_type": "execute_result"
    }
   ],
   "source": [
    "a.sum()"
   ]
  },
  {
   "cell_type": "code",
   "execution_count": 129,
   "id": "2ee54035",
   "metadata": {},
   "outputs": [
    {
     "data": {
      "text/plain": [
       "array([5, 7, 9])"
      ]
     },
     "execution_count": 129,
     "metadata": {},
     "output_type": "execute_result"
    }
   ],
   "source": [
    "#supplying the keyword axis to your sum(rows)\n",
    "#axis=0 [rows]\n",
    "a.sum(axis=0)"
   ]
  },
  {
   "cell_type": "code",
   "execution_count": 131,
   "id": "149f8b77",
   "metadata": {},
   "outputs": [
    {
     "data": {
      "text/plain": [
       "array([ 6, 15])"
      ]
     },
     "execution_count": 131,
     "metadata": {},
     "output_type": "execute_result"
    }
   ],
   "source": [
    "a.sum(axis=1)#[columns]"
   ]
  },
  {
   "cell_type": "markdown",
   "id": "5d21942f",
   "metadata": {},
   "source": [
    "# Merge/Join arrays"
   ]
  },
  {
   "cell_type": "code",
   "execution_count": 144,
   "id": "c5430a48",
   "metadata": {},
   "outputs": [
    {
     "data": {
      "text/plain": [
       "array([[0, 1, 2],\n",
       "       [3, 4, 5],\n",
       "       [6, 7, 8]])"
      ]
     },
     "execution_count": 144,
     "metadata": {},
     "output_type": "execute_result"
    }
   ],
   "source": [
    "array1=np.arange(0,9).reshape(3,3)\n",
    "array1"
   ]
  },
  {
   "cell_type": "code",
   "execution_count": 146,
   "id": "f803b30f",
   "metadata": {},
   "outputs": [
    {
     "data": {
      "text/plain": [
       "array([[10, 11, 12],\n",
       "       [13, 14, 15],\n",
       "       [16, 17, 18]])"
      ]
     },
     "execution_count": 146,
     "metadata": {},
     "output_type": "execute_result"
    }
   ],
   "source": [
    "array2=np.arange(10,19).reshape(3,3)\n",
    "array2"
   ]
  },
  {
   "cell_type": "code",
   "execution_count": null,
   "id": "8cdee367",
   "metadata": {},
   "outputs": [],
   "source": [
    "#merge along the rows"
   ]
  },
  {
   "cell_type": "code",
   "execution_count": 147,
   "id": "52e330d8",
   "metadata": {},
   "outputs": [
    {
     "data": {
      "text/plain": [
       "array([[ 0,  1,  2],\n",
       "       [ 3,  4,  5],\n",
       "       [ 6,  7,  8],\n",
       "       [10, 11, 12],\n",
       "       [13, 14, 15],\n",
       "       [16, 17, 18]])"
      ]
     },
     "execution_count": 147,
     "metadata": {},
     "output_type": "execute_result"
    }
   ],
   "source": [
    "np.concatenate((array1,array2),axis=0)"
   ]
  },
  {
   "cell_type": "code",
   "execution_count": null,
   "id": "4420b4fc",
   "metadata": {},
   "outputs": [],
   "source": [
    "#merge along the columns(concatenate)"
   ]
  },
  {
   "cell_type": "code",
   "execution_count": 148,
   "id": "1c69c8d7",
   "metadata": {},
   "outputs": [
    {
     "data": {
      "text/plain": [
       "array([[ 0,  1,  2, 10, 11, 12],\n",
       "       [ 3,  4,  5, 13, 14, 15],\n",
       "       [ 6,  7,  8, 16, 17, 18]])"
      ]
     },
     "execution_count": 148,
     "metadata": {},
     "output_type": "execute_result"
    }
   ],
   "source": [
    "np.concatenate((array1,array2),axis=1)"
   ]
  },
  {
   "cell_type": "code",
   "execution_count": null,
   "id": "68fba234",
   "metadata": {},
   "outputs": [],
   "source": []
  }
 ],
 "metadata": {
  "kernelspec": {
   "display_name": "Python 3 (ipykernel)",
   "language": "python",
   "name": "python3"
  },
  "language_info": {
   "codemirror_mode": {
    "name": "ipython",
    "version": 3
   },
   "file_extension": ".py",
   "mimetype": "text/x-python",
   "name": "python",
   "nbconvert_exporter": "python",
   "pygments_lexer": "ipython3",
   "version": "3.9.13"
  }
 },
 "nbformat": 4,
 "nbformat_minor": 5
}
